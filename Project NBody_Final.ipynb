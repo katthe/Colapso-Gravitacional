{
 "cells": [
  {
   "cell_type": "code",
   "execution_count": 1,
   "metadata": {},
   "outputs": [],
   "source": [
    "import numpy as np\n",
    "import matplotlib.pyplot as plt "
   ]
  },
  {
   "cell_type": "code",
   "execution_count": 2,
   "metadata": {
    "scrolled": true
   },
   "outputs": [],
   "source": [
    "# Simulation parameters\n",
    "N         = 100   # Number of particles \n",
    "t         = 0      # current time of the simulation\n",
    "tEnd      = 5.0   # time at which simulation ends \n",
    "dt        = 0.01   # timestep \n",
    "soft      = 0.1    # soft length\n",
    "pi        = np.pi  # pi\n",
    "G         = 1.0   # Newton's Gravitational Constant in AU\n",
    "plotRealTime = True # switch on for plotting as the simulation goes along\n",
    "    \n",
    "# Generate Initial Conditions\n",
    "np.random.seed(20)            # set the random number generator seed"
   ]
  },
  {
   "cell_type": "code",
   "execution_count": 3,
   "metadata": {},
   "outputs": [],
   "source": [
    "def unitary_sphere(N):\n",
    "    pos = np.zeros([N,3])\n",
    "    for k in range(N):\n",
    "        r = 1.0 * np.random.rand() # 0<r<1\n",
    "        theta = pi*np.random.rand() #0<theta<2*pi\n",
    "        phi = 2*pi*np.random.rand() #0<phi<pi\n",
    "        pos[k][0] = r * np.sin(theta) * np.cos(phi)\n",
    "        pos[k][1] = r * np.sin(theta) * np.sin(phi)\n",
    "        pos[k][2] = r * np.cos(theta)\n",
    "    return pos"
   ]
  },
  {
   "cell_type": "code",
   "execution_count": 4,
   "metadata": {},
   "outputs": [],
   "source": [
    "mass0 = 10.0 * np.random.rand(N,1)\n",
    "mass0 = sorted(mass0)\n",
    "   \n",
    "pos = unitary_sphere(N)  # Randomly selected positions and velocities\n",
    "vel = np.zeros([N,3])"
   ]
  },
  {
   "cell_type": "code",
   "execution_count": 5,
   "metadata": {},
   "outputs": [],
   "source": [
    "mass = np.zeros([N,1])\n",
    "for i in range(0,N):\n",
    "    mass[i]=mass0[i]   "
   ]
  },
  {
   "cell_type": "code",
   "execution_count": 6,
   "metadata": {},
   "outputs": [],
   "source": [
    "def Aceleracion( pos, mass, G, soft ):\n",
    "    # Positions r = [x,y,z] for all particles\n",
    "    x = pos[:,0:1]\n",
    "    y = pos[:,1:2]\n",
    "    z = pos[:,2:3]\n",
    "    \n",
    "    dx = x.T - x\n",
    "    dy = y.T - y\n",
    "    dz = z.T - z\n",
    "    \n",
    "    # Matrix for all particles  \n",
    "    inv = (dx**2 + dy**2 + dz**2 + soft**2)\n",
    "    inv[inv>0] = inv[inv>0]**(-3/2)\n",
    "    \n",
    "    # Acceleration a=[x,y,z] for all particles\n",
    "    ax = (G*dx*inv) @mass\n",
    "    ay = (G*dy*inv) @mass\n",
    "    az = (G*dz*inv) @mass\n",
    "    \n",
    "    # Pack together the acceleration components\n",
    "    a = np.hstack((ax,ay,az))\n",
    "    return a"
   ]
  },
  {
   "cell_type": "code",
   "execution_count": 7,
   "metadata": {},
   "outputs": [],
   "source": [
    "def Energia( pos, vel, mass, G ):\n",
    "    # Kinetic Energy:\n",
    "    KinE = (1/2) * np.sum(np.sum(mass * vel**2))\n",
    "    \n",
    "    # Potential Energy:\n",
    "    # positions r = [x,y,z] for all particles\n",
    "    x = pos[:,0:1]\n",
    "    y = pos[:,1:2]\n",
    "    z = pos[:,2:3]\n",
    "    \n",
    "    dx = x.T - x\n",
    "    dy = y.T - y\n",
    "    dz = z.T - z\n",
    "    \n",
    "    # Matrix for all particles 1/r\n",
    "    inv_r = np.sqrt(dx**2 + dy**2 + dz**2)\n",
    "    inv_r[inv_r>0] = 1.0/inv_r[inv_r>0]\n",
    "    \n",
    "    # Sum over upPotEr triangle, to count each interaction only once\n",
    "    PotE = G * np.sum(np.sum(np.triu(-(mass*mass.T)*inv_r,1)))\n",
    "    \n",
    "    return KinE, PotE;"
   ]
  },
  {
   "cell_type": "code",
   "execution_count": 8,
   "metadata": {},
   "outputs": [
    {
     "name": "stdout",
     "output_type": "stream",
     "text": [
      "Using matplotlib backend: Qt5Agg\n"
     ]
    }
   ],
   "source": [
    "%matplotlib\n",
    "\n",
    "# calculate initial gravitational accelerations\n",
    "acc = Aceleracion( pos, mass, G, soft )\n",
    "\n",
    "# calculate initial energy of system\n",
    "KinE, PotE  = Energia( pos, vel, mass, G )\n",
    "\n",
    "# number of timesteps\n",
    "Nt = int(tEnd/dt)\n",
    "\n",
    "# save energies, particle orbits for plotting trails\n",
    "final_pos = np.zeros((N,3,Nt+1))\n",
    "final_pos[:,:,0] = pos\n",
    "Final_KinE = np.zeros(Nt+1)\n",
    "Final_KinE[0] = KinE\n",
    "Final_PotE = np.zeros(Nt+1)\n",
    "Final_PotE[0] = PotE\n",
    "time = np.arange(Nt+1)*dt\n",
    "\n",
    "# prep figure\n",
    "fig = plt.figure(figsize=(10,10), dpi=80)\n",
    "grid = plt.GridSpec(3, 1, wspace=0.0, hspace=0.3)\n",
    "ax1 = plt.subplot(grid[0:2,0])\n",
    "ax2 = plt.subplot(grid[2,0])\n",
    "\n",
    "# Simulation Main Loop\n",
    "for i in range(Nt):\n",
    "    # (1/2) kick\n",
    "    vel = vel+((acc*dt)/2)\n",
    "    \n",
    "    # drift\n",
    "    pos =pos+(vel*dt)\n",
    "    \n",
    "    # update accelerations\n",
    "    acc = Aceleracion( pos, mass, G, soft )\n",
    "    \n",
    "    # (1/2) kick\n",
    "    vel =vel+((acc*dt)/2)\n",
    "    \n",
    "    # update time\n",
    "    t = t+dt\n",
    "    \n",
    "    # Get energy of system\n",
    "    KinE, PotE  = Energia( pos, vel, mass, G )\n",
    "    \n",
    "    # Final positions and energies \n",
    "    final_pos[:,:,i+1] = pos\n",
    "    Final_KinE[i+1] = KinE\n",
    "    Final_PotE[i+1] = PotE\n",
    "    \n",
    "    # Plot \n",
    "    if plotRealTime or (i == Nt-1):\n",
    "        plt.sca(ax1)\n",
    "        plt.cla()\n",
    "        xx = final_pos[:,0,max(i-50,0):i+1]\n",
    "        yy = final_pos[:,1,max(i-50,0):i+1]\n",
    "        plt.scatter(xx,yy,s=1,color=[.7,.7,1])\n",
    "        plt.scatter(pos[0:50,0],pos[0:50,1],s=10,color='red')\n",
    "        plt.scatter(pos[51:99,0],pos[51:99,1],s=10,color='black')\n",
    "        ax1.set(xlim=(-10, 10), ylim=(-10, 10))\n",
    "        ax1.set_aspect('equal', 'box')\n",
    "        \n",
    "        plt.sca(ax2)\n",
    "        plt.cla()\n",
    "        plt.scatter(time,Final_KinE,color='red',s=1,label='Kinetic Energy' if i == Nt-1 else \"\")\n",
    "        plt.scatter(time,Final_PotE,color='blue',s=1,label='Potential Energy' if i == Nt-1 else \"\")\n",
    "        plt.scatter(time,Final_KinE+Final_PotE,color='black',s=1,label='Total Energy' if i == Nt-1 else \"\")\n",
    "        plt.scatter(time,Final_PotE/2.0,color='orange',s=1,label='Virial' if i == Nt-1 else \"\")\n",
    "        plt.xlabel('Time')\n",
    "        plt.ylabel('Energy')\n",
    "        ax2.set(xlim=(0, tEnd), ylim=(-200000, 200000))\n",
    "        ax2.set_aspect('auto', 'box')        \n",
    "        plt.pause(0.0001)\n",
    "    \n",
    "plt.sca(ax2)\n",
    "plt.xlabel('time')\n",
    "plt.ylabel('energy')\n",
    "ax2.legend(loc='upper right')\n",
    "plt.grid()\n",
    "plt.show()"
   ]
  },
  {
   "cell_type": "markdown",
   "metadata": {},
   "source": [
    "## Esfera Unitaria "
   ]
  },
  {
   "cell_type": "code",
   "execution_count": null,
   "metadata": {},
   "outputs": [],
   "source": [
    "%matplotlib inline\n",
    "fig2 = plt.figure(figsize=(6,8), dpi=80)\n",
    "grid = plt.GridSpec(3, 1, wspace=0.0, hspace=0.3)\n",
    "theta = np.linspace(0, 2*np.pi, 200)\n",
    "xc =np.cos(theta)\n",
    "yc =np.sin(theta)\n",
    "\n",
    "ax1 = plt.subplot(grid[0:2,0])\n",
    "plt.scatter(final_pos[0:50,0,1],final_pos[0:50,1,1],s=10,color='red')\n",
    "plt.scatter(final_pos[51:99,0,1],final_pos[51:99,1,1],s=10,color='black')\n",
    "plt.scatter(xc,yc,s=1,color='blue')\n",
    "plt.xlabel('AU')\n",
    "plt.ylabel('AU')\n",
    "ax1.set(xlim=(-1.1, 1.1), ylim=(-1.1, 1.1))\n",
    "ax1.set_aspect('equal', 'box')\n",
    "plt.show()\n",
    "#plt.savefig(\"dist_inic.png\",bbox_inches='tight',dpi=400) #guarda en .png"
   ]
  },
  {
   "cell_type": "markdown",
   "metadata": {},
   "source": [
    "## Perfil de Masas"
   ]
  },
  {
   "cell_type": "code",
   "execution_count": 21,
   "metadata": {},
   "outputs": [],
   "source": [
    "tiempo=100 #<<---------------instante de tiempo en multiplos de dt 0-1-3-10-30-100\n",
    "nn=1000 #<<--------num de puntos en el array R (no cambia mucho al aumentarlo, puesto que son solo 100 masas)\n",
    "xlimit=20 #<<--------------- Radio maximo donde quiero visualizar\n",
    "R = np.linspace(0,xlimit,nn)\n",
    "M = np.zeros(nn)\n",
    "\n",
    "for l in range(0,nn):\n",
    "    mass2 = np.zeros(100)\n",
    "    for i in range(0,100):\n",
    "        norma = np.sqrt(final_pos[i,0,tiempo]**2 + final_pos[i,1,tiempo]**2 + final_pos[i,2,tiempo]**2)\n",
    "        if norma>R[l]:\n",
    "            mass2[i]=mass[i]*1.0\n",
    "        else:\n",
    "            mass2[i]=mass[i]*0.0\n",
    "    M[l]=sum(mass2)    "
   ]
  },
  {
   "cell_type": "code",
   "execution_count": 22,
   "metadata": {},
   "outputs": [],
   "source": [
    "fig3 = plt.figure(figsize=(6,6), dpi=80)\n",
    "plt.plot(R,M,'-r')\n",
    "plt.xlabel('AU')\n",
    "plt.ylabel('$M_\\odot$')\n",
    "plt.show()\n",
    "plt.savefig(\"perfil_masa.png\",bbox_inches='tight',dpi=400) #guarda en .png"
   ]
  }
 ],
 "metadata": {
  "kernelspec": {
   "display_name": "Python 3",
   "language": "python",
   "name": "python3"
  },
  "language_info": {
   "codemirror_mode": {
    "name": "ipython",
    "version": 3
   },
   "file_extension": ".py",
   "mimetype": "text/x-python",
   "name": "python",
   "nbconvert_exporter": "python",
   "pygments_lexer": "ipython3",
   "version": "3.8.3"
  }
 },
 "nbformat": 4,
 "nbformat_minor": 4
}
